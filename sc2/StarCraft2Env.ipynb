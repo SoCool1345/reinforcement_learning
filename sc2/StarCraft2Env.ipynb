{
 "cells": [
  {
   "cell_type": "code",
   "execution_count": 1,
   "metadata": {
    "collapsed": true
   },
   "outputs": [],
   "source": [
    "import os\n",
    "import pickle\n",
    "import time\n",
    "\n",
    "import gym\n",
    "import numpy\n",
    "import subprocess\n",
    "from stable_baselines3.common.env_checker import check_env"
   ]
  },
  {
   "cell_type": "code",
   "execution_count": 2,
   "metadata": {
    "pycharm": {
     "name": "#%%\n"
    }
   },
   "outputs": [],
   "source": [
    "import numpy as np\n",
    "\n",
    "\n",
    "class StarCraft2Env(gym.Env):\n",
    "    def __init__(self):\n",
    "        super(StarCraft2Env,self).__init__()\n",
    "        self.observation_space = gym.spaces.Box(low=0,high=255,shape=(224,224,3),dtype=np.uint8)\n",
    "        self.action_space = gym.spaces.Discrete(6)\n",
    "\n",
    "    def step(self,action):\n",
    "        while True:\n",
    "            try:\n",
    "                with open('transaction.pkl','rb') as f:\n",
    "                    transaction = pickle.load(f)\n",
    "                if transaction['action'] is None:\n",
    "                    transaction['action'] = action\n",
    "                    with open('transaction.pkl','wb') as f:\n",
    "                        pickle.dump(transaction,f)\n",
    "                    break\n",
    "                    time.sleep(0.1)\n",
    "            except Exception as e:\n",
    "                time.sleep(0.1)\n",
    "        #取回环境返回的transaction\n",
    "        while True:\n",
    "            try:\n",
    "                with open('transaction.pkl','rb') as f:\n",
    "                    transaction = pickle.load(f)\n",
    "                if transaction['action'] is None:\n",
    "                    transaction['action'] = action\n",
    "                    observation = transaction['observation']\n",
    "                    reward = transaction['reward']\n",
    "                    done = transaction['done']\n",
    "                    break\n",
    "            except Exception as e:\n",
    "                time.sleep(0.1)\n",
    "        info = {}\n",
    "        return observation,reward,done,info\n",
    "\n",
    "\n",
    "    def reset(self):\n",
    "        print('Reset Env')\n",
    "        observation = np.zeros((224,224,3),dtype=np.uint8)\n",
    "        transaction = {'observation':observation,'reward':0,'action':None,'done':False}\n",
    "        with open('transaction.pkl','wb') as f:\n",
    "            pickle.dump(transaction,f)\n",
    "        subprocess.Popen([\"cmd\", \"/c\",'python','WorkRLRobot.py'])\n",
    "        return observation"
   ]
  },
  {
   "cell_type": "code",
   "execution_count": 3,
   "metadata": {
    "pycharm": {
     "name": "#%%\n"
    }
   },
   "outputs": [
    {
     "name": "stdout",
     "output_type": "stream",
     "text": [
      "Reset Env\n"
     ]
    }
   ],
   "source": [
    "# sc2 = StarCraft2Env()\n",
    "# check_env(sc2)"
   ]
  },
  {
   "cell_type": "code",
   "execution_count": null,
   "metadata": {
    "pycharm": {
     "is_executing": true,
     "name": "#%%\n"
    }
   },
   "outputs": [
    {
     "name": "stdout",
     "output_type": "stream",
     "text": [
      "Reset Env\n"
     ]
    },
    {
     "ename": "KeyboardInterrupt",
     "evalue": "",
     "output_type": "error",
     "traceback": [
      "\u001B[1;31m---------------------------------------------------------------------------\u001B[0m",
      "\u001B[1;31mEOFError\u001B[0m                                  Traceback (most recent call last)",
      "Input \u001B[1;32mIn [2]\u001B[0m, in \u001B[0;36mStarCraft2Env.step\u001B[1;34m(self, action)\u001B[0m\n\u001B[0;32m     26\u001B[0m \u001B[38;5;28;01mwith\u001B[39;00m \u001B[38;5;28mopen\u001B[39m(\u001B[38;5;124m'\u001B[39m\u001B[38;5;124mtransaction.pkl\u001B[39m\u001B[38;5;124m'\u001B[39m,\u001B[38;5;124m'\u001B[39m\u001B[38;5;124mrb\u001B[39m\u001B[38;5;124m'\u001B[39m) \u001B[38;5;28;01mas\u001B[39;00m f:\n\u001B[1;32m---> 27\u001B[0m     transaction \u001B[38;5;241m=\u001B[39m \u001B[43mpickle\u001B[49m\u001B[38;5;241;43m.\u001B[39;49m\u001B[43mload\u001B[49m\u001B[43m(\u001B[49m\u001B[43mf\u001B[49m\u001B[43m)\u001B[49m\n\u001B[0;32m     28\u001B[0m \u001B[38;5;28;01mif\u001B[39;00m transaction[\u001B[38;5;124m'\u001B[39m\u001B[38;5;124maction\u001B[39m\u001B[38;5;124m'\u001B[39m] \u001B[38;5;129;01mis\u001B[39;00m \u001B[38;5;28;01mNone\u001B[39;00m:\n",
      "\u001B[1;31mEOFError\u001B[0m: Ran out of input",
      "\nDuring handling of the above exception, another exception occurred:\n",
      "\u001B[1;31mKeyboardInterrupt\u001B[0m                         Traceback (most recent call last)",
      "Input \u001B[1;32mIn [4]\u001B[0m, in \u001B[0;36m<cell line: 2>\u001B[1;34m()\u001B[0m\n\u001B[0;32m      1\u001B[0m tr1 \u001B[38;5;241m=\u001B[39m sc2\u001B[38;5;241m.\u001B[39mreset()\n\u001B[0;32m      2\u001B[0m \u001B[38;5;28;01mfor\u001B[39;00m _ \u001B[38;5;129;01min\u001B[39;00m \u001B[38;5;28mrange\u001B[39m(\u001B[38;5;241m300\u001B[39m):\n\u001B[1;32m----> 3\u001B[0m     \u001B[43msc2\u001B[49m\u001B[38;5;241;43m.\u001B[39;49m\u001B[43mstep\u001B[49m\u001B[43m(\u001B[49m\u001B[38;5;241;43m0\u001B[39;49m\u001B[43m)\u001B[49m\n\u001B[0;32m      4\u001B[0m     sc2\u001B[38;5;241m.\u001B[39mstep(\u001B[38;5;241m1\u001B[39m)\n\u001B[0;32m      5\u001B[0m     sc2\u001B[38;5;241m.\u001B[39mstep(\u001B[38;5;241m2\u001B[39m)\n",
      "Input \u001B[1;32mIn [2]\u001B[0m, in \u001B[0;36mStarCraft2Env.step\u001B[1;34m(self, action)\u001B[0m\n\u001B[0;32m     33\u001B[0m             \u001B[38;5;28;01mbreak\u001B[39;00m\n\u001B[0;32m     34\u001B[0m     \u001B[38;5;28;01mexcept\u001B[39;00m \u001B[38;5;167;01mException\u001B[39;00m \u001B[38;5;28;01mas\u001B[39;00m e:\n\u001B[1;32m---> 35\u001B[0m         \u001B[43mtime\u001B[49m\u001B[38;5;241;43m.\u001B[39;49m\u001B[43msleep\u001B[49m\u001B[43m(\u001B[49m\u001B[38;5;241;43m0.1\u001B[39;49m\u001B[43m)\u001B[49m\n\u001B[0;32m     36\u001B[0m info \u001B[38;5;241m=\u001B[39m {}\n\u001B[0;32m     37\u001B[0m \u001B[38;5;28;01mreturn\u001B[39;00m observation,reward,done,info\n",
      "\u001B[1;31mKeyboardInterrupt\u001B[0m: "
     ]
    }
   ],
   "source": [
    "# for _ in range(300):\n",
    "#     sc2.step(0)\n",
    "#     sc2.step(1)\n",
    "#     sc2.step(2)\n",
    "#     sc2.step(3)\n",
    "#     sc2.step(4)\n",
    "# sc2.step(5)"
   ]
  },
  {
   "cell_type": "code",
   "execution_count": 5,
   "metadata": {
    "pycharm": {
     "name": "#%%\n"
    }
   },
   "outputs": [
    {
     "name": "stdout",
     "output_type": "stream",
     "text": [
      "{'observation': array([[[255, 255, 255],\n",
      "        [255, 255, 255],\n",
      "        [255, 255, 255],\n",
      "        ...,\n",
      "        [255, 255, 255],\n",
      "        [255, 255, 255],\n",
      "        [255, 255, 255]],\n",
      "\n",
      "       [[255, 255, 255],\n",
      "        [255, 255, 255],\n",
      "        [255, 255, 255],\n",
      "        ...,\n",
      "        [255, 255, 255],\n",
      "        [255, 255, 255],\n",
      "        [255, 255, 255]],\n",
      "\n",
      "       [[255, 255, 255],\n",
      "        [255, 255, 255],\n",
      "        [255, 255, 255],\n",
      "        ...,\n",
      "        [255, 255, 255],\n",
      "        [255, 255, 255],\n",
      "        [255, 255, 255]],\n",
      "\n",
      "       ...,\n",
      "\n",
      "       [[255, 255, 255],\n",
      "        [255, 255, 255],\n",
      "        [255, 255, 255],\n",
      "        ...,\n",
      "        [  0,   0,   0],\n",
      "        [  0,   0,   0],\n",
      "        [  0,   0,   0]],\n",
      "\n",
      "       [[255, 255, 255],\n",
      "        [255, 255, 255],\n",
      "        [255, 255, 255],\n",
      "        ...,\n",
      "        [  0,   0,   0],\n",
      "        [  0,   0,   0],\n",
      "        [  0,   0,   0]],\n",
      "\n",
      "       [[255, 255, 255],\n",
      "        [255, 255, 255],\n",
      "        [255, 255, 255],\n",
      "        ...,\n",
      "        [  0,   0,   0],\n",
      "        [  0,   0,   0],\n",
      "        [  0,   0,   0]]], dtype=uint8), 'reward': 0, 'action': None, 'done': False}\n"
     ]
    }
   ],
   "source": [
    "# with open('transaction.pkl','rb') as f:\n",
    "#             tr2 = pickle.load(f)\n",
    "# print(tr2)"
   ]
  },
  {
   "cell_type": "code",
   "execution_count": 5,
   "metadata": {
    "pycharm": {
     "name": "#%%\n"
    }
   },
   "outputs": [],
   "source": []
  }
 ],
 "metadata": {
  "kernelspec": {
   "display_name": "Python 3 (ipykernel)",
   "language": "python",
   "name": "python3"
  },
  "language_info": {
   "codemirror_mode": {
    "name": "ipython",
    "version": 3
   },
   "file_extension": ".py",
   "mimetype": "text/x-python",
   "name": "python",
   "nbconvert_exporter": "python",
   "pygments_lexer": "ipython3",
   "version": "3.8.8"
  }
 },
 "nbformat": 4,
 "nbformat_minor": 1
}