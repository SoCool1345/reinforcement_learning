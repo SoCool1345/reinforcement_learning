{
 "cells": [
  {
   "cell_type": "code",
   "execution_count": 1,
   "metadata": {
    "collapsed": true
   },
   "outputs": [],
   "source": [
    "import os\n",
    "import time\n",
    "from stable_baselines3 import PPO\n",
    "from StarCraft2Env import StarCraft2Env\n",
    "from gym.wrappers import GrayScaleObservation\n",
    "from stable_baselines3.common.monitor import Monitor\n",
    "from stable_baselines3.common.vec_env import DummyVecEnv,SubprocVecEnv\n",
    "from stable_baselines3.common.vec_env import VecFrameStack\n",
    "from stable_baselines3.common.env_util import make_vec_env"
   ]
  },
  {
   "cell_type": "code",
   "execution_count": 2,
   "outputs": [],
   "source": [
    "model_name = f'{int(time.time())}'\n",
    "model_dir = f'models/{model_name}/'\n",
    "logs_dir = f'logs/{model_name}/'\n",
    "if not os.path.exists(model_dir):\n",
    "    os.makedirs(model_dir)\n",
    "if not os.path.exists(logs_dir):\n",
    "    os.makedirs(logs_dir)"
   ],
   "metadata": {
    "collapsed": false,
    "pycharm": {
     "name": "#%%\n"
    }
   }
  },
  {
   "cell_type": "code",
   "execution_count": 3,
   "outputs": [],
   "source": [
    "def make_env(seed = 0):\n",
    "    def _init():\n",
    "        env = StarCraft2Env(seed)\n",
    "        env.seed(seed)\n",
    "        return env\n",
    "    return _init\n",
    "# monitor_dir = r'./monitor_log/'\n",
    "# os.makedirs(monitor_dir,exist_ok=True)\n",
    "# env = Monitor(env,monitor_dir)\n",
    "num_cpu = 12\n",
    "env = SubprocVecEnv([make_env(i) for i in range(num_cpu)])\n",
    "# env = DummyVecEnv([lambda: env])\n",
    "# env = make_vec_env(env,n_envs=4,monitor_dir=monitor_dir,vec_env_cls=SubprocVecEnv)"
   ],
   "metadata": {
    "collapsed": false,
    "pycharm": {
     "name": "#%%\n"
    }
   }
  },
  {
   "cell_type": "code",
   "execution_count": 4,
   "outputs": [
    {
     "name": "stdout",
     "output_type": "stream",
     "text": [
      "Using cuda device\n",
      "Wrapping the env in a VecTransposeImage.\n"
     ]
    }
   ],
   "source": [
    "model = PPO(\"CnnPolicy\", env, verbose=1,tensorboard_log=logs_dir,device='cuda',batch_size=128,learning_rate=1e-3)"
   ],
   "metadata": {
    "collapsed": false,
    "pycharm": {
     "name": "#%%\n"
    }
   }
  },
  {
   "cell_type": "code",
   "execution_count": 5,
   "outputs": [
    {
     "name": "stdout",
     "output_type": "stream",
     "text": [
      "Logging to logs/1661663814/PPO_0\n",
      "------------------------------\n",
      "| time/              |       |\n",
      "|    fps             | 27    |\n",
      "|    iterations      | 1     |\n",
      "|    time_elapsed    | 448   |\n",
      "|    total_timesteps | 12288 |\n",
      "------------------------------\n",
      "-----------------------------------------\n",
      "| time/                   |             |\n",
      "|    fps                  | 23          |\n",
      "|    iterations           | 2           |\n",
      "|    time_elapsed         | 1051        |\n",
      "|    total_timesteps      | 24576       |\n",
      "| train/                  |             |\n",
      "|    approx_kl            | 0.014266455 |\n",
      "|    clip_fraction        | 0.0603      |\n",
      "|    clip_range           | 0.2         |\n",
      "|    entropy_loss         | -1.94       |\n",
      "|    explained_variance   | 0.0017      |\n",
      "|    learning_rate        | 0.001       |\n",
      "|    loss                 | -0.037      |\n",
      "|    n_updates            | 10          |\n",
      "|    policy_gradient_loss | -0.0172     |\n",
      "|    value_loss           | 0.0212      |\n",
      "-----------------------------------------\n",
      "----------------------------------------\n",
      "| time/                   |            |\n",
      "|    fps                  | 21         |\n",
      "|    iterations           | 3          |\n",
      "|    time_elapsed         | 1681       |\n",
      "|    total_timesteps      | 36864      |\n",
      "| train/                  |            |\n",
      "|    approx_kl            | 0.06670582 |\n",
      "|    clip_fraction        | 0.288      |\n",
      "|    clip_range           | 0.2        |\n",
      "|    entropy_loss         | -1.91      |\n",
      "|    explained_variance   | 0.0949     |\n",
      "|    learning_rate        | 0.001      |\n",
      "|    loss                 | -0.0765    |\n",
      "|    n_updates            | 20         |\n",
      "|    policy_gradient_loss | -0.0409    |\n",
      "|    value_loss           | 0.0202     |\n",
      "----------------------------------------\n",
      "----------------------------------------\n",
      "| time/                   |            |\n",
      "|    fps                  | 21         |\n",
      "|    iterations           | 4          |\n",
      "|    time_elapsed         | 2264       |\n",
      "|    total_timesteps      | 49152      |\n",
      "| train/                  |            |\n",
      "|    approx_kl            | 0.07755897 |\n",
      "|    clip_fraction        | 0.45       |\n",
      "|    clip_range           | 0.2        |\n",
      "|    entropy_loss         | -1.84      |\n",
      "|    explained_variance   | 0.356      |\n",
      "|    learning_rate        | 0.001      |\n",
      "|    loss                 | -0.0749    |\n",
      "|    n_updates            | 30         |\n",
      "|    policy_gradient_loss | -0.0436    |\n",
      "|    value_loss           | 0.0199     |\n",
      "----------------------------------------\n",
      "----------------------------------------\n",
      "| time/                   |            |\n",
      "|    fps                  | 21         |\n",
      "|    iterations           | 5          |\n",
      "|    time_elapsed         | 2871       |\n",
      "|    total_timesteps      | 61440      |\n",
      "| train/                  |            |\n",
      "|    approx_kl            | 0.10709538 |\n",
      "|    clip_fraction        | 0.552      |\n",
      "|    clip_range           | 0.2        |\n",
      "|    entropy_loss         | -1.76      |\n",
      "|    explained_variance   | 0.639      |\n",
      "|    learning_rate        | 0.001      |\n",
      "|    loss                 | -0.0796    |\n",
      "|    n_updates            | 40         |\n",
      "|    policy_gradient_loss | -0.0539    |\n",
      "|    value_loss           | 0.0293     |\n",
      "----------------------------------------\n",
      "Logging to logs/1661663814/PPO_0\n",
      "------------------------------\n",
      "| time/              |       |\n",
      "|    fps             | 26    |\n",
      "|    iterations      | 1     |\n",
      "|    time_elapsed    | 471   |\n",
      "|    total_timesteps | 73728 |\n",
      "------------------------------\n",
      "---------------------------------------\n",
      "| time/                   |           |\n",
      "|    fps                  | 22        |\n",
      "|    iterations           | 2         |\n",
      "|    time_elapsed         | 1113      |\n",
      "|    total_timesteps      | 86016     |\n",
      "| train/                  |           |\n",
      "|    approx_kl            | 0.1311981 |\n",
      "|    clip_fraction        | 0.627     |\n",
      "|    clip_range           | 0.2       |\n",
      "|    entropy_loss         | -1.76     |\n",
      "|    explained_variance   | 0.465     |\n",
      "|    learning_rate        | 0.001     |\n",
      "|    loss                 | -0.0844   |\n",
      "|    n_updates            | 60        |\n",
      "|    policy_gradient_loss | -0.0525   |\n",
      "|    value_loss           | 0.0673    |\n",
      "---------------------------------------\n",
      "----------------------------------------\n",
      "| time/                   |            |\n",
      "|    fps                  | 20         |\n",
      "|    iterations           | 3          |\n",
      "|    time_elapsed         | 1772       |\n",
      "|    total_timesteps      | 98304      |\n",
      "| train/                  |            |\n",
      "|    approx_kl            | 0.13386081 |\n",
      "|    clip_fraction        | 0.597      |\n",
      "|    clip_range           | 0.2        |\n",
      "|    entropy_loss         | -1.75      |\n",
      "|    explained_variance   | 0.555      |\n",
      "|    learning_rate        | 0.001      |\n",
      "|    loss                 | -0.00526   |\n",
      "|    n_updates            | 70         |\n",
      "|    policy_gradient_loss | -0.0666    |\n",
      "|    value_loss           | 0.0954     |\n",
      "----------------------------------------\n",
      "----------------------------------------\n",
      "| time/                   |            |\n",
      "|    fps                  | 20         |\n",
      "|    iterations           | 4          |\n",
      "|    time_elapsed         | 2377       |\n",
      "|    total_timesteps      | 110592     |\n",
      "| train/                  |            |\n",
      "|    approx_kl            | 0.13610466 |\n",
      "|    clip_fraction        | 0.661      |\n",
      "|    clip_range           | 0.2        |\n",
      "|    entropy_loss         | -1.76      |\n",
      "|    explained_variance   | 0.457      |\n",
      "|    learning_rate        | 0.001      |\n",
      "|    loss                 | -0.0926    |\n",
      "|    n_updates            | 80         |\n",
      "|    policy_gradient_loss | -0.0638    |\n",
      "|    value_loss           | 0.0247     |\n",
      "----------------------------------------\n"
     ]
    },
    {
     "name": "stderr",
     "output_type": "stream",
     "text": [
      "\n",
      "KeyboardInterrupt\n",
      "\n"
     ]
    }
   ],
   "source": [
    "TIMESTEPS = 50000\n",
    "iters = 0\n",
    "while True:\n",
    "    iters += 1\n",
    "    model.learn(total_timesteps=TIMESTEPS,tb_log_name='PPO',reset_num_timesteps=False)\n",
    "    model.save(f\"{model_dir}/{TIMESTEPS*iters}\")"
   ],
   "metadata": {
    "collapsed": false,
    "pycharm": {
     "name": "#%%\n"
    }
   }
  },
  {
   "cell_type": "code",
   "execution_count": null,
   "outputs": [],
   "source": [
    "del model # remove to demonstrate saving and loading\n",
    "iters = 0\n",
    "model = PPO.load(f\"{model_dir}/{TIMESTEPS*iters}\")\n",
    "\n",
    "obs = env.reset()\n",
    "while True:\n",
    "    action, _states = model.predict(obs)\n",
    "    obs, rewards, dones, info = env.step(action)\n",
    "    env.render()\n"
   ],
   "metadata": {
    "collapsed": false,
    "pycharm": {
     "name": "#%%\n"
    }
   }
  }
 ],
 "metadata": {
  "kernelspec": {
   "display_name": "Python 3",
   "language": "python",
   "name": "python3"
  },
  "language_info": {
   "codemirror_mode": {
    "name": "ipython",
    "version": 2
   },
   "file_extension": ".py",
   "mimetype": "text/x-python",
   "name": "python",
   "nbconvert_exporter": "python",
   "pygments_lexer": "ipython2",
   "version": "2.7.6"
  }
 },
 "nbformat": 4,
 "nbformat_minor": 0
}