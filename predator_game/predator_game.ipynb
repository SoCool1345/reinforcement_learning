{
 "cells": [
  {
   "cell_type": "code",
   "execution_count": 1,
   "metadata": {
    "collapsed": true
   },
   "outputs": [],
   "source": [
    "import numpy as np\n",
    "import cv2\n",
    "from PIL import Image\n",
    "import time\n",
    "import pickle\n",
    "import matplotlib.pyplot as plt\n",
    "from matplotlib import style\n",
    "style.use('ggplot')\n"
   ]
  },
  {
   "cell_type": "code",
   "execution_count": 2,
   "outputs": [],
   "source": [
    "SIZE = 10           # 游戏区域的大小\n",
    "EPISODES = 30000    # 局数\n",
    "SHOW_EVERY = 3000   # 定义每隔多少局展示一次图像\n",
    "\n",
    "FOOD_REWARD = 25      # agent获得食物的奖励\n",
    "ENEMY_PENALITY = 300  # 遇上对手的惩罚\n",
    "MOVE_PENALITY = 1     # 每移动一步的惩罚\n",
    "\n",
    "epsilon = 0.6\n",
    "EPS_DECAY = 0.9998\n",
    "DISCOUNT = 0.95\n",
    "LEARNING_RATE = 0.1\n",
    "\n",
    "q_table = None\n",
    "# 设定三个部分的颜色分别是蓝、绿、红\n",
    "d = {1:(255,0,0), # blue\n",
    "     2:(0,255,0), # green\n",
    "     3:(0,0,255)} # red\n",
    "PLAYER_N = 1\n",
    "FOOD_N = 2\n",
    "ENEMY_N = 3\n"
   ],
   "metadata": {
    "collapsed": false,
    "pycharm": {
     "name": "#%%\n"
    }
   }
  },
  {
   "cell_type": "code",
   "execution_count": 3,
   "outputs": [],
   "source": [
    "class Cube:\n",
    "    def __init__(self): # 随机初始化位置坐标\n",
    "        self.x = np.random.randint(0, SIZE-1)\n",
    "        self.y = np.random.randint(0, SIZE-1)\n",
    "    def __str__(self):\n",
    "        return f'{self.x},{self.y}'\n",
    "    def __sub__(self, other):\n",
    "        return (self.x-other.x,self.y- other.y)\n",
    "    def action(self,choise):\n",
    "        if choise == 0:\n",
    "            self.move(x=1,y=1)\n",
    "        elif choise == 1:\n",
    "            self.move(x=-1, y=1)\n",
    "        elif choise == 2:\n",
    "            self.move(x=1, y=-1)\n",
    "        elif choise == 3:\n",
    "            self.move(x=-1, y=-1)\n",
    "    def move(self,x=False, y=False):\n",
    "        if not x:\n",
    "            self.x += np.random.randint(-1, 2)\n",
    "        else:\n",
    "            self.x += x\n",
    "        if not y:\n",
    "            self.y += np.random.randint(-1, 2)\n",
    "        else:\n",
    "            self.y += y\n",
    "\n",
    "        if self.x< 0:\n",
    "            self.x = 0\n",
    "        if self.x> SIZE -1:\n",
    "            self.x = SIZE-1\n",
    "        if self.y< 0:\n",
    "            self.y = 0\n",
    "        if self.y> SIZE -1:\n",
    "            self.y = SIZE-1\n"
   ],
   "metadata": {
    "collapsed": false,
    "pycharm": {
     "name": "#%%\n"
    }
   }
  },
  {
   "cell_type": "code",
   "execution_count": 4,
   "outputs": [],
   "source": [
    "# 初始化Q表格\n",
    "q_table = None\n",
    "if q_table is None:   # 如果没有实现提供，就随机初始化一个Q表格\n",
    "    q_table = {}\n",
    "    for x1 in range(-SIZE+1,SIZE):\n",
    "        for y1 in range(-SIZE + 1, SIZE):\n",
    "            for x2 in range(-SIZE + 1, SIZE):\n",
    "                for y2 in range(-SIZE + 1, SIZE):\n",
    "                    q_table[((x1,y1),(x2,y2))] = [np.random.randint(-5,0) for i in range(4)]\n",
    "else:                # 提供了，就使用提供的Q表格\n",
    "    with open(q_table,'rb') as f:\n",
    "        q_table= pickle.load(f)"
   ],
   "metadata": {
    "collapsed": false,
    "pycharm": {
     "name": "#%%\n"
    }
   }
  },
  {
   "cell_type": "code",
   "execution_count": 8,
   "outputs": [
    {
     "name": "stderr",
     "output_type": "stream",
     "text": [
      "C:\\Python39\\lib\\site-packages\\numpy\\core\\fromnumeric.py:3474: RuntimeWarning: Mean of empty slice.\n",
      "  return _methods._mean(a, axis=axis, dtype=dtype,\n",
      "C:\\Python39\\lib\\site-packages\\numpy\\core\\_methods.py:189: RuntimeWarning: invalid value encountered in double_scalars\n",
      "  ret = ret.dtype.type(ret / rcount)\n"
     ]
    },
    {
     "name": "stdout",
     "output_type": "stream",
     "text": [
      "episode  0   epsilon: 0.0014863591039423116\n",
      "mean_reward: nan\n",
      "episode  3000   epsilon: 0.0008156822227294347\n",
      "mean_reward: -15.599\n",
      "episode  6000   epsilon: 0.00044762903305946587\n",
      "mean_reward: -12.092666666666666\n",
      "episode  9000   epsilon: 0.0002456492806319455\n",
      "mean_reward: -12.174666666666667\n",
      "episode  12000   epsilon: 0.00013480709386197562\n",
      "mean_reward: -12.760666666666667\n",
      "episode  15000   epsilon: 7.397926225861729e-05\n",
      "mean_reward: -10.788666666666666\n",
      "episode  18000   epsilon: 4.0598243664631156e-05\n",
      "mean_reward: -9.337333333333333\n",
      "episode  21000   epsilon: 2.2279451542662007e-05\n",
      "mean_reward: -9.385\n",
      "episode  24000   epsilon: 1.2226488543253467e-05\n",
      "mean_reward: -9.814333333333334\n",
      "episode  27000   epsilon: 6.7096365371500425e-06\n",
      "mean_reward: -9.639\n"
     ]
    }
   ],
   "source": [
    "episode_rewards = []\n",
    "for episode in range(EPISODES):\n",
    "    player = Cube()\n",
    "    food = Cube()\n",
    "    enemy = Cube()\n",
    "\n",
    "    if episode % SHOW_EVERY == 0:\n",
    "        print('episode ',episode,'  epsilon:',epsilon)\n",
    "        print('mean_reward:',np.mean(episode_rewards[-SHOW_EVERY:]))\n",
    "        show = True\n",
    "    else:\n",
    "        show = False\n",
    "\n",
    "    episode_reward = 0\n",
    "    for i in range(200):\n",
    "        obs = (player - food,player - enemy)\n",
    "        if np.random.random() > epsilon:\n",
    "            action = np.argmax(q_table[obs])   # 选择Q值最高的动作，来进行开发\n",
    "        else:\n",
    "            action = np.random.randint(0,4)    # 随机选择一个动作，进行探索\n",
    "\n",
    "        # print(\"player的位置：\",player)\n",
    "        # print(\"player的观测：\",obs)\n",
    "        # print(\"player的动作：\",action)\n",
    "        player.action(action)              # 智能体执行动作\n",
    "        food.move()\n",
    "        enemy.move()\n",
    "\n",
    "        # 奖励\n",
    "        if player.x == food.x and player.y == food.y:\n",
    "            reward = FOOD_REWARD\n",
    "        elif player.x == enemy.x and player.y == enemy.y:\n",
    "            reward = - ENEMY_PENALITY\n",
    "        else:\n",
    "            reward = - MOVE_PENALITY\n",
    "        # print('reward:',reward)\n",
    "\n",
    "        # 更新Q表格\n",
    "        current_q = q_table[obs][action]            # 当前动作、状态对应的Q值\n",
    "        # print('current_q:',current_q)\n",
    "        new_obs = (player-food,player-enemy)        # 动作之后新的状态\n",
    "        # print('new_obs:',new_obs)\n",
    "        max_future_q = np.max(q_table[new_obs])     # 新的状态下，最大的Q值\n",
    "        # print('max_future_q:',max_future_q)\n",
    "        # print('')\n",
    "        if reward ==FOOD_REWARD:\n",
    "            new_q = FOOD_REWARD\n",
    "        else:\n",
    "            new_q = (1-LEARNING_RATE) * current_q + LEARNING_RATE * (reward + DISCOUNT* max_future_q)\n",
    "        q_table[obs][action] = new_q\n",
    "\n",
    "        # 图像显示\n",
    "        if show:\n",
    "            env = np.zeros((SIZE,SIZE,3),dtype=np.uint8)\n",
    "            env[food.x][food.y] = d[FOOD_N]\n",
    "            env[player.x][player.y] = d[PLAYER_N]\n",
    "            env[enemy.x][enemy.y] = d[ENEMY_N]\n",
    "            img = Image.fromarray(env,'RGB')\n",
    "            img = img.resize((800,800))\n",
    "            cv2.imshow('',np.array(img))\n",
    "            if reward == FOOD_REWARD or reward == -ENEMY_PENALITY:\n",
    "                 if cv2.waitKey(500) & 0xFF == ord('q'):\n",
    "                    break\n",
    "            else:\n",
    "                if cv2.waitKey(1) & 0xFF == ord('q'):\n",
    "                    break\n",
    "\n",
    "        episode_reward += reward\n",
    "\n",
    "        if reward == FOOD_REWARD or reward ==ENEMY_PENALITY:\n",
    "            break\n",
    "    episode_rewards.append(episode_reward)\n",
    "    epsilon *= EPS_DECAY\n"
   ],
   "metadata": {
    "collapsed": false,
    "pycharm": {
     "name": "#%%\n"
    }
   }
  },
  {
   "cell_type": "code",
   "execution_count": 9,
   "outputs": [
    {
     "name": "stdout",
     "output_type": "stream",
     "text": [
      "27001\n"
     ]
    },
    {
     "data": {
      "text/plain": "<Figure size 432x288 with 1 Axes>",
      "image/png": "[encoded data removed]"
     },
     "metadata": {},
     "output_type": "display_data"
    }
   ],
   "source": [
    "moving_avg = np.convolve(episode_rewards, np.ones((SHOW_EVERY,))/SHOW_EVERY,mode='valid')\n",
    "print(len(moving_avg))\n",
    "plt.plot([i for i in range(len(moving_avg))], moving_avg)\n",
    "plt.xlabel('episode #')\n",
    "plt.ylabel(f'mean{SHOW_EVERY} reward')\n",
    "plt.show()"
   ],
   "metadata": {
    "collapsed": false,
    "pycharm": {
     "name": "#%%\n"
    }
   }
  },
  {
   "cell_type": "code",
   "execution_count": 10,
   "outputs": [],
   "source": [
    "with open(f'qtable_{int(time.time())}.pickle','wb') as f:\n",
    "    pickle.dump(q_table,f)\n",
    "\n",
    "\n",
    "\n",
    "\n",
    "\n",
    "\n",
    "\n",
    "\n",
    "\n",
    "\n",
    "\n",
    "\n",
    "\n",
    "\n",
    "\n",
    "\n",
    "\n",
    "\n"
   ],
   "metadata": {
    "collapsed": false,
    "pycharm": {
     "name": "#%%\n"
    }
   }
  }
 ],
 "metadata": {
  "kernelspec": {
   "name": "pycharm-dae1cc48",
   "language": "python",
   "display_name": "PyCharm (reinforcement_learning)"
  },
  "language_info": {
   "codemirror_mode": {
    "name": "ipython",
    "version": 2
   },
   "file_extension": ".py",
   "mimetype": "text/x-python",
   "name": "python",
   "nbconvert_exporter": "python",
   "pygments_lexer": "ipython2",
   "version": "2.7.6"
  }
 },
 "nbformat": 4,
 "nbformat_minor": 0
}